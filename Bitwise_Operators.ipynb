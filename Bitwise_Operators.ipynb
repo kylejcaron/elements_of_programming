{
 "cells": [
  {
   "cell_type": "code",
   "execution_count": 1,
   "metadata": {},
   "outputs": [],
   "source": [
    "from matplotlib import pyplot as plt\n",
    "%matplotlib inline\n",
    "import numpy as np\n",
    "import time"
   ]
  },
  {
   "cell_type": "markdown",
   "metadata": {},
   "source": [
    "# Convert interger to binary"
   ]
  },
  {
   "cell_type": "markdown",
   "metadata": {},
   "source": [
    "Example: 242\n",
    " \n",
    " - 242 / 2 = 121 -> 0 # Remainder of 0\n",
    " - 121 / 2 = 60 -> 1 # Remainder of 1\n",
    " - 60 / 2 = 30 -> 0 # Remainder of 0\n",
    " - 30 / 2 = 15 -> 0 # Remainder of 0\n",
    " - 15 / 2 = 7 -> # Remainder of 1\n",
    " - 7 / 2 = 3 -> # Remainder of 1\n",
    " - 3 / 2 = 1 -> 1 # Remainder of 1\n",
    " - 1 / 2 = 0 -> 1 # Remainder of 1"
   ]
  },
  {
   "cell_type": "code",
   "execution_count": 2,
   "metadata": {
    "scrolled": true
   },
   "outputs": [
    {
     "data": {
      "text/plain": [
       "242"
      ]
     },
     "execution_count": 2,
     "metadata": {},
     "output_type": "execute_result"
    }
   ],
   "source": [
    "int('11110010', 2)"
   ]
  },
  {
   "cell_type": "markdown",
   "metadata": {},
   "source": [
    "### Use a stack data structure to convert integer values to binary"
   ]
  },
  {
   "cell_type": "code",
   "execution_count": 3,
   "metadata": {},
   "outputs": [],
   "source": [
    "def num_to_bin(dec_num):\n",
    "    stack = []\n",
    "    \n",
    "    while dec_num > 0:\n",
    "        remainder = dec_num % 2\n",
    "        stack.append(remainder)\n",
    "        dec_num //= 2\n",
    "        \n",
    "    bin_num = ''\n",
    "    while stack: # While stack is not empty\n",
    "        bin_num += str(stack.pop())\n",
    "    return bin_num"
   ]
  },
  {
   "cell_type": "code",
   "execution_count": 4,
   "metadata": {},
   "outputs": [
    {
     "data": {
      "text/plain": [
       "'11110010'"
      ]
     },
     "execution_count": 4,
     "metadata": {},
     "output_type": "execute_result"
    }
   ],
   "source": [
    "num_to_bin(242)"
   ]
  },
  {
   "cell_type": "markdown",
   "metadata": {},
   "source": [
    "### Showing it is a linear time solution"
   ]
  },
  {
   "cell_type": "code",
   "execution_count": 5,
   "metadata": {},
   "outputs": [
    {
     "data": {
      "image/png": "[encoded data removed]",
      "text/plain": [
       "<Figure size 432x288 with 1 Axes>"
      ]
     },
     "metadata": {
      "needs_background": "light"
     },
     "output_type": "display_data"
    }
   ],
   "source": [
    "from functools import partial\n",
    "import timeit\n",
    "import numpy as np\n",
    "from matplotlib import pyplot\n",
    "\n",
    "\n",
    "def plot_time(func, inputs, repeats, n_tests):\n",
    "    \"\"\"\n",
    "    Run timer and plot time complexity of `func` using the iterable `inputs`.\n",
    "\n",
    "    Run the function `n_tests` times per `repeats`.\n",
    "    \"\"\"\n",
    "    x, y, yerr = [], [], []\n",
    "    for i in inputs:\n",
    "        timer = timeit.Timer(partial(func, i))\n",
    "        t = timer.repeat(repeat=repeats, number=n_tests)\n",
    "        x.append(i)\n",
    "        y.append(np.mean(t))\n",
    "        yerr.append(np.std(t) / np.sqrt(len(t)))\n",
    "    pyplot.errorbar(x, y, yerr=yerr, fmt='-o', label=func.__name__)\n",
    "\n",
    "\n",
    "def plot_times(functions, inputs, repeats=3, n_tests=1, file_name=\"\"):\n",
    "    \"\"\"\n",
    "    Run timer and plot time complexity of all `functions`,\n",
    "    using the iterable `inputs`.\n",
    "\n",
    "    Run the functions `n_tests` times per `repeats`.\n",
    "\n",
    "    Adds a legend containing the labels added by `plot_time`.\n",
    "    \"\"\"\n",
    "    for func in functions:\n",
    "        plot_time(func, inputs, repeats, n_tests)\n",
    "    pyplot.legend()\n",
    "    pyplot.xlabel(\"Input\")\n",
    "    pyplot.ylabel(\"Time [s]\")\n",
    "    if not file_name:\n",
    "        pyplot.show()\n",
    "    else:\n",
    "        pyplot.savefig(file_name)\n",
    "\n",
    "\n",
    "\n",
    "import math\n",
    "import time\n",
    "\n",
    "scale = 100.\n",
    "\n",
    "def o_n(n):\n",
    "    time.sleep(n / scale)\n",
    "\n",
    "def o_n2(n):\n",
    "    time.sleep(n**2 / scale)\n",
    "\n",
    "def o_log(n):\n",
    "    time.sleep(math.log(n + 1) / scale)\n",
    "\n",
    "def o_nlog(n):\n",
    "    time.sleep(n * math.log(n + 1) / scale)\n",
    "\n",
    "def o_exp(n):\n",
    "    time.sleep((math.exp(n) - 1) / scale)\n",
    "\n",
    "plot_times([o_n, o_n2, o_log, o_nlog, o_exp, num_to_bin],\n",
    "           np.linspace(0, 1.1, num=10), repeats=3)"
   ]
  },
  {
   "cell_type": "markdown",
   "metadata": {},
   "source": [
    "# Bitwise operators python"
   ]
  },
  {
   "cell_type": "markdown",
   "metadata": {},
   "source": [
    "### ( & ) Binary AND \n",
    "Operator copies a bit to the result if it exists in both operands"
   ]
  },
  {
   "cell_type": "code",
   "execution_count": 6,
   "metadata": {},
   "outputs": [
    {
     "name": "stdout",
     "output_type": "stream",
     "text": [
      "Value of c is  12\n",
      "1100 0b1100\n"
     ]
    }
   ],
   "source": [
    "a = 60            # 60 = 0011 1100 \n",
    "b = 13            # 13 = 0000 1101 \n",
    "\n",
    "c = a & b;    # c = 12 = 0000 1100\n",
    "\n",
    "\n",
    "print(\"Value of c is \", c)\n",
    "print(num_to_bin(c), bin(c)) \n",
    "# Notice that the leading zeros are ignored in binary representation"
   ]
  },
  {
   "cell_type": "code",
   "execution_count": 7,
   "metadata": {},
   "outputs": [
    {
     "name": "stdout",
     "output_type": "stream",
     "text": [
      "Value of c is  48\n",
      "110000 0b110000\n"
     ]
    }
   ],
   "source": [
    "a = 60            # 60 = 0011 1100 \n",
    "b = 242          # 242 = 1111 0010 \n",
    "\n",
    "c = a & b;    # c = 12 = 0011 0000 which = 110000 or 0b11000\n",
    "\n",
    "\n",
    "print(\"Value of c is \", c)\n",
    "print(num_to_bin(c), bin(c))"
   ]
  },
  {
   "cell_type": "markdown",
   "metadata": {},
   "source": [
    "### ( | ) Binary OR \n",
    "It copies a bit if it exists in either operand."
   ]
  },
  {
   "cell_type": "code",
   "execution_count": 8,
   "metadata": {},
   "outputs": [
    {
     "name": "stdout",
     "output_type": "stream",
     "text": [
      "Value of c is  61\n",
      "111101 0b111101\n"
     ]
    }
   ],
   "source": [
    "a = 60            # 60 = 0011 1100 \n",
    "b = 13            # 13 = 0000 1101 \n",
    "\n",
    "c = a | b     # c = 61 = 0011 1101\n",
    "\n",
    "\n",
    "print(\"Value of c is \", c)\n",
    "print(num_to_bin(c), bin(c))"
   ]
  },
  {
   "cell_type": "code",
   "execution_count": 9,
   "metadata": {},
   "outputs": [
    {
     "name": "stdout",
     "output_type": "stream",
     "text": [
      "Value of c is  254\n",
      "11111110 0b11111110\n"
     ]
    }
   ],
   "source": [
    "a = 60            # 60 = 0011 1100 \n",
    "b = 242          # 242 = 1111 0010\n",
    "\n",
    "c = a | b    # c = 254 = 1111 1110\n",
    "\n",
    "\n",
    "print(\"Value of c is \", c)\n",
    "print(num_to_bin(c), bin(c))"
   ]
  },
  {
   "cell_type": "markdown",
   "metadata": {},
   "source": [
    "### ( ^ ) Binary XOR \n",
    "It copies the bit if it is set in one operand but not both."
   ]
  },
  {
   "cell_type": "code",
   "execution_count": 10,
   "metadata": {},
   "outputs": [
    {
     "name": "stdout",
     "output_type": "stream",
     "text": [
      "Value of c is  49\n",
      "110001 0b110001\n"
     ]
    }
   ],
   "source": [
    "a = 60            # 60 = 0011 1100 \n",
    "b = 13            # 13 = 0000 1101 \n",
    "\n",
    "c = a ^ b         # 49 = 0011 0001\n",
    "\n",
    "\n",
    "print(\"Value of c is \", c)\n",
    "print(num_to_bin(c), bin(c))"
   ]
  },
  {
   "cell_type": "code",
   "execution_count": 11,
   "metadata": {},
   "outputs": [
    {
     "name": "stdout",
     "output_type": "stream",
     "text": [
      "Value of c is  206\n",
      "11001110 0b11001110\n"
     ]
    }
   ],
   "source": [
    "a = 60            # 60 = 0011 1100 \n",
    "b = 242          # 242 = 1111 0010\n",
    "\n",
    "c = a ^ b    # c = 206 = 1100 1110\n",
    "\n",
    "\n",
    "print(\"Value of c is \", c)\n",
    "print(num_to_bin(c), bin(c))"
   ]
  },
  {
   "cell_type": "code",
   "execution_count": 12,
   "metadata": {},
   "outputs": [
    {
     "data": {
      "text/plain": [
       "'1'"
      ]
     },
     "execution_count": 12,
     "metadata": {},
     "output_type": "execute_result"
    }
   ],
   "source": [
    "num_to_bin(1)"
   ]
  },
  {
   "cell_type": "markdown",
   "metadata": {},
   "source": [
    "### ( ~ ) Binary Ones Complement\n",
    "It is unary and has the effect of 'flipping' bits."
   ]
  },
  {
   "cell_type": "code",
   "execution_count": 13,
   "metadata": {},
   "outputs": [
    {
     "name": "stdout",
     "output_type": "stream",
     "text": [
      "Value of c is  -61\n",
      " -0b111101\n",
      "\n",
      "Notice the above functions do not work for \n",
      "converting negative numbers to binary form\n"
     ]
    }
   ],
   "source": [
    "a = 60            # 60 = 0011 1100 \n",
    "\n",
    "c = ~a;          # -61 = 1100 0011\n",
    "\n",
    "\n",
    "print(\"Value of c is \", c)\n",
    "\n",
    "print(num_to_bin(c), bin(c))\n",
    "print('''\\nNotice the above functions do not work for \n",
    "converting negative numbers to binary form''')"
   ]
  },
  {
   "cell_type": "code",
   "execution_count": 14,
   "metadata": {},
   "outputs": [
    {
     "name": "stdout",
     "output_type": "stream",
     "text": [
      "Value of c is  -14\n"
     ]
    }
   ],
   "source": [
    "b = 13            # 13 = 0000 1101 \n",
    "\n",
    "c = ~b;          # -14 = 1111 0010\n",
    "\n",
    "print(\"Value of c is \", c)"
   ]
  },
  {
   "cell_type": "markdown",
   "metadata": {},
   "source": [
    "### ( << ) Binary Left shift\n",
    "\n",
    " - The left operands value is moved left by the number of bits specified by the right operand.\n",
    " - Also equivalent to multiplying by 2 __**__ (number shifted)"
   ]
  },
  {
   "cell_type": "code",
   "execution_count": 15,
   "metadata": {},
   "outputs": [
    {
     "name": "stdout",
     "output_type": "stream",
     "text": [
      "240\n",
      "Value of c is  240\n",
      "11110000 0b11110000\n"
     ]
    }
   ],
   "source": [
    "a = 60            # 60 = 0011 1100 \n",
    "\n",
    "c = a << 2       # 240 = 1111 0000\n",
    "\n",
    "print(a*(2**2))\n",
    "\n",
    "print(\"Value of c is \", c)\n",
    "print(num_to_bin(c), bin(c))\n"
   ]
  },
  {
   "cell_type": "code",
   "execution_count": 16,
   "metadata": {},
   "outputs": [
    {
     "name": "stdout",
     "output_type": "stream",
     "text": [
      "52\n",
      "Value of c is  52\n",
      "110100 0b110100\n"
     ]
    }
   ],
   "source": [
    "b = 13            # 13 = 0000 1101 \n",
    "\n",
    "c = b << 2        # 52 = 0011 0100\n",
    "\n",
    "print(b*(2**2))\n",
    "\n",
    "print(\"Value of c is \", c)\n",
    "print(num_to_bin(c), bin(c))\n"
   ]
  },
  {
   "cell_type": "markdown",
   "metadata": {},
   "source": [
    "### ( >> ) Binary Right shift\n",
    "\n",
    " - The left operands value is moved right by the number of bits specified by the right operand.\n",
    " - Also equivalent to dividing by 2 __**__ (number shifted) (floor)"
   ]
  },
  {
   "cell_type": "code",
   "execution_count": 17,
   "metadata": {},
   "outputs": [
    {
     "name": "stdout",
     "output_type": "stream",
     "text": [
      "15\n",
      "Value of c is  15\n",
      "1111 0b1111\n"
     ]
    }
   ],
   "source": [
    "a = 60            # 60 = 0011 1100 \n",
    "\n",
    "c = a >> 2        # 15 = 0000 1111\n",
    "\n",
    "print(a // (2**2)) # // is the floor operator (round down)\n",
    "\n",
    "print(\"Value of c is \", c)\n",
    "print(num_to_bin(c), bin(c))\n"
   ]
  },
  {
   "cell_type": "code",
   "execution_count": 18,
   "metadata": {},
   "outputs": [
    {
     "name": "stdout",
     "output_type": "stream",
     "text": [
      "3\n",
      "Value of c is  3\n",
      "11 0b11\n"
     ]
    }
   ],
   "source": [
    "b = 13            # 13 = 0000 1101 \n",
    "\n",
    "c = b >> 2         # 3 = 0000 0011\n",
    "\n",
    "print(b // (2**2)) # // is the floor operator (round down)\n",
    "\n",
    "print(\"Value of c is \", c)\n",
    "print(num_to_bin(c), bin(c))\n"
   ]
  },
  {
   "cell_type": "markdown",
   "metadata": {},
   "source": [
    "# Two's complement\n",
    "Typically a negative integer is stored in __Two's complement__ form.\n",
    " - This means that the very first bit is used to represent the sign\n",
    "     - 0 => positive\n",
    "     - 1 => negative\n",
    " - To go from 18 to -18 you need to change the first bit to 1, and fill in the rest with the two's complement\n",
    " \n",
    "- To go from 18 to -18, change the first bit to 1, and with the remaining bits:\n",
    "    - take the inverse and add 1\n",
    "\n",
    "- Left shift = multipply by two\n",
    "- right shift = divide by two\n",
    "\n",
    "Logical vs arithmetic right shift\n",
    " - What happens when we do a right shift for a negatve number\n",
    " - Logical right shift fills in a zero\n",
    " - arithmetic right shift fills in with original sign bit (it rounds to integers)\n",
    "\n",
    "masks\n",
    " \n",
    " - 0 & 0 => 0\n",
    " - 0 & 1 => 0\n",
    " - 1 & 1 => 1\n",
    " \n",
    " - 0 | 0 => 0\n",
    " - 0 | 1 => 1\n",
    " - 1 | 1 => 1\n",
    " \n",
    " - 0 ^ 0 => 0\n",
    " - 0 ^ 1 => 1\n",
    " - 1 ^ 1 => 0\n",
    " "
   ]
  },
  {
   "cell_type": "markdown",
   "metadata": {},
   "source": [
    "# Calculate number of bits \n",
    "\n",
    "The #bits = #1s"
   ]
  },
  {
   "cell_type": "code",
   "execution_count": 19,
   "metadata": {},
   "outputs": [],
   "source": [
    "def count_bits(x: int) -> int:\n",
    "    num_bits = 0\n",
    "    while x:\n",
    "        num_bits += x & 1\n",
    "        x >>= 1\n",
    "    return num_bits"
   ]
  },
  {
   "cell_type": "code",
   "execution_count": 20,
   "metadata": {},
   "outputs": [
    {
     "data": {
      "text/plain": [
       "2"
      ]
     },
     "execution_count": 20,
     "metadata": {},
     "output_type": "execute_result"
    }
   ],
   "source": [
    "count_bits(5)"
   ]
  },
  {
   "cell_type": "markdown",
   "metadata": {},
   "source": [
    "# Calculate Parity\n",
    "\n",
    "The parity of a binary number is 1 if the number of 1s in the binary form of the number is odd.\n",
    "\n",
    "Solution: The brute-force algorithm iteratively tests the value of each bit while tracking the number of 1s seen so far. Since we only care if the number of 1s is even or odd, we can store the number mod 2"
   ]
  },
  {
   "cell_type": "markdown",
   "metadata": {},
   "source": [
    "#### Brute-force solution"
   ]
  },
  {
   "cell_type": "code",
   "execution_count": 21,
   "metadata": {},
   "outputs": [
    {
     "name": "stdout",
     "output_type": "stream",
     "text": [
      "1\n"
     ]
    }
   ],
   "source": [
    "def parity(x: int) -> int:\n",
    "    '''Time complexity O(n), brute-fore algorithm'''\n",
    "    result = 0\n",
    "    while x:\n",
    "        result^= x & 1\n",
    "       \n",
    "        x >>= 1 # 1 Right shift, which is equivalent to dividing by 2\n",
    "     \n",
    "    return result\n",
    "\n",
    "print(parity(121))"
   ]
  },
  {
   "cell_type": "code",
   "execution_count": 22,
   "metadata": {},
   "outputs": [
    {
     "name": "stdout",
     "output_type": "stream",
     "text": [
      "121 next iteration\n",
      "-------------------\n",
      "\n",
      "00000000   (0, result)\n",
      "01111001   (121, x)\n",
      "^_______\n",
      "01111001   (121, result)\n",
      "\n",
      "\n",
      "01111001   (121, result)\n",
      "00000001   (1, 1)\n",
      "&_______\n",
      "00000001   (1, result)\n",
      "\n",
      "\n",
      "01111001   (121, x)\n",
      ">>______\n",
      "00111100   (60, x)\n",
      "\n",
      "\n",
      "60 next iteration\n",
      "-------------------\n",
      "\n",
      "00000001   (1, result)\n",
      "00111100   (60, x)\n",
      "^_______\n",
      "00111101   (61, result)\n",
      "\n",
      "\n",
      "00111101   (61, result)\n",
      "00000001   (1, 1)\n",
      "&_______\n",
      "00000001   (1, result)\n",
      "\n",
      "\n",
      "00111100   (60, x)\n",
      ">>______\n",
      "00011110   (30, x)\n",
      "\n",
      "\n",
      "30 next iteration\n",
      "-------------------\n",
      "\n",
      "00000001   (1, result)\n",
      "00011110   (30, x)\n",
      "^_______\n",
      "00011111   (31, result)\n",
      "\n",
      "\n",
      "00011111   (31, result)\n",
      "00000001   (1, 1)\n",
      "&_______\n",
      "00000001   (1, result)\n",
      "\n",
      "\n",
      "00011110   (30, x)\n",
      ">>______\n",
      "00001111   (15, x)\n",
      "\n",
      "\n",
      "15 next iteration\n",
      "-------------------\n",
      "\n",
      "00000001   (1, result)\n",
      "00001111   (15, x)\n",
      "^_______\n",
      "00001110   (14, result)\n",
      "\n",
      "\n",
      "00001110   (14, result)\n",
      "00000001   (1, 1)\n",
      "&_______\n",
      "00000000   (0, result)\n",
      "\n",
      "\n",
      "00001111   (15, x)\n",
      ">>______\n",
      "00000111   (7, x)\n",
      "\n",
      "\n",
      "7 next iteration\n",
      "-------------------\n",
      "\n",
      "00000000   (0, result)\n",
      "00000111   (7, x)\n",
      "^_______\n",
      "00000111   (7, result)\n",
      "\n",
      "\n",
      "00000111   (7, result)\n",
      "00000001   (1, 1)\n",
      "&_______\n",
      "00000001   (1, result)\n",
      "\n",
      "\n",
      "00000111   (7, x)\n",
      ">>______\n",
      "00000011   (3, x)\n",
      "\n",
      "\n",
      "3 next iteration\n",
      "-------------------\n",
      "\n",
      "00000001   (1, result)\n",
      "00000011   (3, x)\n",
      "^_______\n",
      "00000010   (2, result)\n",
      "\n",
      "\n",
      "00000010   (2, result)\n",
      "00000001   (1, 1)\n",
      "&_______\n",
      "00000000   (0, result)\n",
      "\n",
      "\n",
      "00000011   (3, x)\n",
      ">>______\n",
      "00000001   (1, x)\n",
      "\n",
      "\n",
      "1 next iteration\n",
      "-------------------\n",
      "\n",
      "00000000   (0, result)\n",
      "00000001   (1, x)\n",
      "^_______\n",
      "00000001   (1, result)\n",
      "\n",
      "\n",
      "00000001   (1, result)\n",
      "00000001   (1, 1)\n",
      "&_______\n",
      "00000001   (1, result)\n",
      "\n",
      "\n",
      "00000001   (1, x)\n",
      ">>______\n",
      "00000000   (0, x)\n",
      "\n",
      "\n",
      "1\n"
     ]
    }
   ],
   "source": [
    "def parity_explained(x: int) -> int:\n",
    "    '''Time complexity O(n), brute-fore algorithm, printing output'''\n",
    "    result = 0\n",
    "    while x:\n",
    "        print(x, 'next iteration')\n",
    "        print('-------------------\\n')\n",
    "        print(str(num_to_bin(result)).zfill(8) + '   ({}, {})'.format(str(result), 'result'))\n",
    "        print(str(num_to_bin(x)).zfill(8) + '   ({}, {})'.format(str(x), 'x'))\n",
    "        print('^_______')\n",
    "        result = result ^ x \n",
    "        print(str(num_to_bin(result)).zfill(8) + '   ({}, {})'.format(str(result), 'result'))\n",
    "        print('\\n')\n",
    "        \n",
    "        print(str(num_to_bin(result)).zfill(8) + '   ({}, {})'.format(str(result), 'result'))\n",
    "        print(str(num_to_bin(1)).zfill(8) + '   ({}, {})'.format(str(1), '1'))\n",
    "        print('&_______')\n",
    "        result = result & 1\n",
    "        print(str(num_to_bin(result)).zfill(8) + '   ({}, {})'.format(str(result), 'result'))\n",
    "        print('\\n')\n",
    "        \n",
    "        print(str(num_to_bin(x)).zfill(8) + '   ({}, {})'.format(str(x), 'x'))\n",
    "        print('>>______')\n",
    "        x >>= 1 # 1 Right shift, which is equivalent to dividing by 2\n",
    "        print(str(num_to_bin(x)).zfill(8) + '   ({}, {})'.format(str(x), 'x'))\n",
    "        print('\\n')\n",
    "    return result\n",
    "\n",
    "print(parity_explained(121))"
   ]
  },
  {
   "cell_type": "markdown",
   "metadata": {},
   "source": [
    "#### Improved Time-Complexity solution\n",
    "The first solution is based on erasing the lowest set bit in a word in a single operation, hereby improving best- and average-cases\n",
    "\n"
   ]
  },
  {
   "cell_type": "code",
   "execution_count": 23,
   "metadata": {},
   "outputs": [
    {
     "name": "stdout",
     "output_type": "stream",
     "text": [
      "11001000   (200)\n",
      "11000111   (199)\n",
      "&_______\n",
      "11000000   (192)\n"
     ]
    }
   ],
   "source": [
    "a = 200\n",
    "b = 199\n",
    "\n",
    "c = a&b\n",
    "\n",
    "print(str(num_to_bin(a)).zfill(8) + '   ({})'.format(a))\n",
    "print(str(num_to_bin(b)).zfill(8) + '   ({})'.format(b))\n",
    "print('&_______')\n",
    "print(str(num_to_bin(c)).zfill(8) + \"   ({})\".format(c))"
   ]
  },
  {
   "cell_type": "markdown",
   "metadata": {},
   "source": [
    "Here is a great trick you should commit to memory: __x&(x-1)__ equals x with its lowest set bit erased. For example, if  x = (00101100) then x-1 = 00101011, so therefore __x&(x-1)__ = 00101000\n",
    "\n",
    "This can be used to reduce the time complexity. Let k be the number of bits set to 1 in a particular word (word=binary number). For example, for 10001010, k=3. The time complexity for the algorithm below is O(k)"
   ]
  },
  {
   "cell_type": "code",
   "execution_count": 24,
   "metadata": {},
   "outputs": [],
   "source": [
    "def parity(x: int) -> int:\n",
    "    '''Time complexity O(k)'''\n",
    "    result = 0\n",
    "    while x:\n",
    "        result ^= 1\n",
    "        x &= x-1 # drops the lowest set bit of x\n",
    "    return result"
   ]
  },
  {
   "cell_type": "code",
   "execution_count": 25,
   "metadata": {},
   "outputs": [
    {
     "data": {
      "text/plain": [
       "1"
      ]
     },
     "execution_count": 25,
     "metadata": {},
     "output_type": "execute_result"
    }
   ],
   "source": [
    "parity(121)"
   ]
  },
  {
   "cell_type": "markdown",
   "metadata": {},
   "source": [
    "# O(log n) solution"
   ]
  },
  {
   "cell_type": "code",
   "execution_count": 26,
   "metadata": {},
   "outputs": [],
   "source": [
    "def parity(x: int) -> int:\n",
    "    '''O(log n) solution'''\n",
    "    x ^= x >> 32\n",
    "    x ^= x >> 16\n",
    "    x ^= x >> 8\n",
    "    x ^= x >> 4\n",
    "    x ^= x >> 2\n",
    "    x ^= x >> 1\n",
    "    return x & 0x1"
   ]
  },
  {
   "cell_type": "code",
   "execution_count": 27,
   "metadata": {},
   "outputs": [
    {
     "data": {
      "text/plain": [
       "1"
      ]
     },
     "execution_count": 27,
     "metadata": {},
     "output_type": "execute_result"
    }
   ],
   "source": [
    "parity(1)"
   ]
  },
  {
   "cell_type": "code",
   "execution_count": 28,
   "metadata": {},
   "outputs": [
    {
     "data": {
      "text/plain": [
       "1"
      ]
     },
     "execution_count": 28,
     "metadata": {},
     "output_type": "execute_result"
    }
   ],
   "source": [
    "x = 5\n",
    "\n",
    "x&1 #used to test if bit 0 of x is 1 or 0"
   ]
  },
  {
   "cell_type": "markdown",
   "metadata": {},
   "source": [
    "Bitwise operations in programming languages play a fundamental role when dealing with a lot of applications. Almost all low-level computing must be done using this kind of operations."
   ]
  },
  {
   "cell_type": "markdown",
   "metadata": {},
   "source": [
    "https://www.youtube.com/watch?v=-HADQ0-id_I"
   ]
  },
  {
   "cell_type": "markdown",
   "metadata": {},
   "source": [
    "AND\n",
    "\n",
    "1100\n",
    "1010\n",
    "\n",
    "1000\n",
    "\n",
    "OR\n",
    "\n",
    "1100\n",
    "1010\n",
    "1110\n",
    "\n",
    "Exclusive OR\n",
    "11000\n",
    "1010\n",
    "0110\n",
    "\n",
    "NOT\n",
    "1010\n",
    "0101\n",
    "\n",
    "Shift left\n",
    "fall off and replaced by 0\n",
    "\n",
    "Circlular left\n",
    "fall off and replaced on other side by same number\n",
    "https://www.geeksforgeeks.org/bitwise-algorithms/\n",
    "https://www.youtube.com/watch?v=NLKQEOgBAnw"
   ]
  },
  {
   "cell_type": "markdown",
   "metadata": {},
   "source": [
    "# Find the element that appears once\n",
    "\n",
    "Input: arr[] = {12, 1, 12, 3, 12, 1, 1, 2, 3, 3}\n",
    "Output: 2\n",
    "In the given array all element appear three times except 2 which appears once.\n",
    "\n",
    "Input: arr[] = {10, 20, 10, 30, 10, 30, 30}\n",
    "Output: 20\n",
    "In the given array all element appear three times except 20 which appears once."
   ]
  },
  {
   "cell_type": "code",
   "execution_count": 29,
   "metadata": {
    "scrolled": true
   },
   "outputs": [
    {
     "name": "stdout",
     "output_type": "stream",
     "text": [
      "0 0\n",
      "3 3\n",
      "0 3\n",
      "0 1\n",
      "The element with single occurrence is  2\n"
     ]
    }
   ],
   "source": [
    "def getSingle(arr): \n",
    "    ones = 0\n",
    "    twos = 0\n",
    "      \n",
    "    for i in range(len(arr)): \n",
    "        # one & arr[i]\" gives the bits that \n",
    "        # are there in both 'ones' and new \n",
    "        # element from arr[]. We add these \n",
    "        # bits to 'twos' using bitwise OR \n",
    "        twos = twos | (ones & arr[i]) \n",
    "        print((ones & arr[i]), twos)\n",
    "\n",
    "        # one & arr[i]\" gives the bits that \n",
    "        # are there in both 'ones' and new \n",
    "        # element from arr[]. We add these \n",
    "        # bits to 'twos' using bitwise OR \n",
    "        ones = ones ^ arr[i] \n",
    "          \n",
    "        # The common bits are those bits  \n",
    "        # which appear third time. So these \n",
    "        # bits should not be there in both  \n",
    "        # 'ones' and 'twos'. common_bit_mask \n",
    "        # contains all these bits as 0, so \n",
    "        # that the bits can be removed from \n",
    "        # 'ones' and 'twos' \n",
    "        common_bit_mask = ~(ones & twos) \n",
    "          \n",
    "        # Remove common bits (the bits that  \n",
    "        # appear third time) from 'ones' \n",
    "        ones &= common_bit_mask \n",
    "          \n",
    "        # Remove common bits (the bits that \n",
    "        # appear third time) from 'twos' \n",
    "        twos &= common_bit_mask \n",
    "    return ones \n",
    "\n",
    "# driver code \n",
    "arr = [3, 3, 2, 3] \n",
    "print(\"The element with single occurrence is \", \n",
    "        getSingle(arr)) "
   ]
  },
  {
   "cell_type": "markdown",
   "metadata": {},
   "source": [
    "# Reminder: Two quick shortcuts"
   ]
  },
  {
   "cell_type": "markdown",
   "metadata": {},
   "source": [
    "#### __x&(x-1)__ => removes the lowest set bit in __x__\n",
    " - What is a set bit? => 1. For example in '1000 0001', the first and last positions are set bits\n",
    "     - In this case, the lowest set bit is the 1 in the last position!"
   ]
  },
  {
   "cell_type": "code",
   "execution_count": 39,
   "metadata": {},
   "outputs": [
    {
     "name": "stdout",
     "output_type": "stream",
     "text": [
      "11001000   (200)\n",
      "11000111   (199)\n",
      "&_______________\n",
      "11000000   (192)\n"
     ]
    }
   ],
   "source": [
    "a = 200 \n",
    "\n",
    "c = a & (a-1) # This operation should remove the lowest set bit from a\n",
    "\n",
    "print(num_to_bin(a).zfill(8) + '   ({})'.format(a))\n",
    "print(num_to_bin(a-1).zfill(8) + '   ({})'.format(a-1))\n",
    "print('&_______________')\n",
    "print(num_to_bin(c).zfill(8) + '   ({})'.format(c))"
   ]
  },
  {
   "cell_type": "markdown",
   "metadata": {},
   "source": [
    "#### __x&~(x-1)__ => extracts the lowest set bit\n",
    "\n"
   ]
  },
  {
   "cell_type": "code",
   "execution_count": 40,
   "metadata": {},
   "outputs": [
    {
     "name": "stdout",
     "output_type": "stream",
     "text": [
      "11001000   (200)\n",
      "11000111   (199)\n",
      "&_______________\n",
      "00001000   (8)\n"
     ]
    }
   ],
   "source": [
    "a = 200\n",
    "\n",
    "c = a &~ (a-1) # This operation should extract the lowest set bit from a\n",
    "\n",
    "print(num_to_bin(a) + '   ({})'.format(a))\n",
    "print(num_to_bin(b) + '   ({})'.format(b))\n",
    "print('&_______________')\n",
    "print(num_to_bin(c).zfill(8) + '   ({})'.format(c))"
   ]
  },
  {
   "cell_type": "markdown",
   "metadata": {},
   "source": [
    "# Swap Bits"
   ]
  },
  {
   "cell_type": "markdown",
   "metadata": {},
   "source": [
    "### Implement code that takes as input a 64 bit integer and swaps the bit indices at i and j"
   ]
  },
  {
   "cell_type": "markdown",
   "metadata": {},
   "source": [
    "#### First, a quick function that helps find if the ith bit is 1 or 0"
   ]
  },
  {
   "cell_type": "code",
   "execution_count": 66,
   "metadata": {},
   "outputs": [],
   "source": [
    "def find_ith_bit(x,i):\n",
    "    return (x >> i)&1"
   ]
  },
  {
   "cell_type": "code",
   "execution_count": 76,
   "metadata": {},
   "outputs": [
    {
     "name": "stdout",
     "output_type": "stream",
     "text": [
      "00001010\n",
      "\n",
      "0\n",
      "0\n",
      "0\n",
      "0\n",
      "1\n",
      "0\n",
      "1\n",
      "0\n"
     ]
    }
   ],
   "source": [
    "print(num_to_bin(10).zfill(8) + '\\n')\n",
    "for i in range(8)[::-1]:   # [::-1] reverses the output of the for loop\n",
    "    print(find_ith_bit(10, i))"
   ]
  },
  {
   "cell_type": "markdown",
   "metadata": {},
   "source": [
    "#### On to swapping bits\n",
    "The time complexity of the function below is O(1)"
   ]
  },
  {
   "cell_type": "code",
   "execution_count": 91,
   "metadata": {},
   "outputs": [],
   "source": [
    "def swap_bits(x, i, j):\n",
    "    # i = 7, j = 3\n",
    "    # Extract the ith and jth bits and see if they differ\n",
    "    if (x >> i)&1 != (x >> j)&1: # The x>>i&1 finds what the ith bit is set as\n",
    "        # ith and jth bits differ. We will swap them by . flipping their values\n",
    "        # Select the bits to flip with bit_mask. Since x^1 = 0 when x = 1 and \n",
    "        # x^1 = 1 when x = 0, w e can perform the flip XOR\n",
    "        \n",
    "        # creates a mask at the i and j positions. i.e. if i=8 and j = 0,\n",
    "        # then the mask become 1000 0001. This way the XOR operation is \n",
    "        # only performed at those positions where there are 1s\n",
    "        bit_mask = (1 << i) | (1 << j) \n",
    "        x ^= bit_mask\n",
    "    return x"
   ]
  },
  {
   "cell_type": "code",
   "execution_count": 92,
   "metadata": {},
   "outputs": [
    {
     "data": {
      "text/plain": [
       "'11110010'"
      ]
     },
     "execution_count": 92,
     "metadata": {},
     "output_type": "execute_result"
    }
   ],
   "source": [
    "num_to_bin(242)"
   ]
  },
  {
   "cell_type": "code",
   "execution_count": 93,
   "metadata": {},
   "outputs": [
    {
     "data": {
      "text/plain": [
       "'11010011'"
      ]
     },
     "execution_count": 93,
     "metadata": {},
     "output_type": "execute_result"
    }
   ],
   "source": [
    "num_to_bin(swap_bits(242, 0,5))"
   ]
  },
  {
   "cell_type": "markdown",
   "metadata": {},
   "source": [
    "# Reverse bits"
   ]
  },
  {
   "cell_type": "code",
   "execution_count": null,
   "metadata": {},
   "outputs": [],
   "source": []
  }
 ],
 "metadata": {
  "kernelspec": {
   "display_name": "Python 3",
   "language": "python",
   "name": "python3"
  },
  "language_info": {
   "codemirror_mode": {
    "name": "ipython",
    "version": 3
   },
   "file_extension": ".py",
   "mimetype": "text/x-python",
   "name": "python",
   "nbconvert_exporter": "python",
   "pygments_lexer": "ipython3",
   "version": "3.6.8"
  }
 },
 "nbformat": 4,
 "nbformat_minor": 2
}
